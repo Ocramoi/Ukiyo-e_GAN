{
 "cells": [
  {
   "cell_type": "code",
   "execution_count": 2,
   "outputs": [],
   "source": [
    "import requests\n",
    "import os\n",
    "import progressbar\n",
    "from PIL import Image\n",
    "import numpy as np"
   ],
   "metadata": {
    "collapsed": false,
    "pycharm": {
     "name": "#%%\n"
    }
   }
  },
  {
   "cell_type": "code",
   "execution_count": 4,
   "metadata": {
    "collapsed": true
   },
   "outputs": [],
   "source": [
    "_BASE_URL = 'https://data.ukiyo-e.org/mfa/scaled/sc'\n",
    "_INIT_IMG = 220854\n",
    "_FIM_IMG  = 221354"
   ]
  },
  {
   "cell_type": "code",
   "execution_count": 34,
   "outputs": [
    {
     "name": "stdout",
     "output_type": "stream",
     "text": [
      "https://data.ukiyo-e.org/mfa/scaled/sc220854.jpg\n"
     ]
    }
   ],
   "source": [
    "try:\n",
    "    link = \"{}{}.jpg\".format(_BASE_URL, _INIT_IMG)\n",
    "    print(link)\n",
    "    req = requests.get(link, allow_redirects=True)\n",
    "    open(os.path.join(os.getcwd(), \"imgs/TESTE.jpg\") , 'wb').write(req.content)\n",
    "except Exception as e:\n",
    "    print(\"Erro na imagem teste! \\n\\t{}\".format(e))\n",
    "\n"
   ],
   "metadata": {
    "collapsed": false,
    "pycharm": {
     "name": "#%%\n"
    }
   }
  },
  {
   "cell_type": "code",
   "execution_count": 35,
   "outputs": [],
   "source": [
    "for i in progressbar.progressbar(range(_INIT_IMG, _FIM_IMG + 1)):\n",
    "    try:\n",
    "        link = \"{}{}.jpg\".format(_BASE_URL, i)\n",
    "        req = requests.get(link, allow_redirects=True)\n",
    "        open(os.path.join(os.getcwd(), \"imgs/{}.jpg\".format(i - _INIT_IMG + 1)) , 'wb').write(req.content)\n",
    "    except Exception as e:\n",
    "        print(\"Erro na imagem {}! \\n\\t{}\".format(i, e))\n"
   ],
   "metadata": {
    "collapsed": false,
    "pycharm": {
     "name": "#%%\n"
    }
   }
  },
  {
   "cell_type": "code",
   "execution_count": 47,
   "outputs": [
    {
     "name": "stderr",
     "output_type": "stream",
     "text": [
      "100% (501 of 501) |######################| Elapsed Time: 0:00:01 Time:  0:00:01\n"
     ]
    },
    {
     "name": "stdout",
     "output_type": "stream",
     "text": [
      "Erros:  229\n"
     ]
    }
   ],
   "source": [
    "IMG_SIZE = 128\n",
    "\n",
    "training_data = []\n",
    "error_qnt = 0\n",
    "\n",
    "images = os.listdir(\"imgs/\")\n",
    "\n",
    "for i in progressbar.progressbar(range(len(images))):\n",
    "    try:\n",
    "        resized = Image.open(\"imgs/{}\".format(images[i]), \"r\").resize((IMG_SIZE, IMG_SIZE), Image.ANTIALIAS)\n",
    "        training_data.append(np.asarray(resized))\n",
    "    except:\n",
    "        error_qnt += 1\n",
    "\n",
    "training_data = np.reshape(training_data, (-1, IMG_SIZE, IMG_SIZE, 3))\n",
    "training_data = (training_data/127.5) - 1\n",
    "\n",
    "np.save(\"art_data.npy\", training_data)\n",
    "print(\"Erros: \", error_qnt)"
   ],
   "metadata": {
    "collapsed": false,
    "pycharm": {
     "name": "#%%\n"
    }
   }
  },
  {
   "cell_type": "code",
   "execution_count": 5,
   "outputs": [
    {
     "name": "stderr",
     "output_type": "stream",
     "text": [
      "100% (300 of 300) |######################| Elapsed Time: 0:08:07 Time:  0:08:07\n"
     ]
    }
   ],
   "source": [
    "EXTRA = 300\n",
    "\n",
    "for i in progressbar.progressbar(range(_FIM_IMG + 1, _FIM_IMG + EXTRA + 1)):\n",
    "    try:\n",
    "        link = \"{}{}.jpg\".format(_BASE_URL, i)\n",
    "        req = requests.get(link, allow_redirects=True)\n",
    "        open(os.path.join(os.getcwd(), \"imgs/{}.jpg\".format(i)) , 'wb').write(req.content)\n",
    "    except Exception as e:\n",
    "        print(\"Erro na imagem {}! \\n\\t{}\".format(i, e))"
   ],
   "metadata": {
    "collapsed": false,
    "pycharm": {
     "name": "#%%\n"
    }
   }
  }
 ],
 "metadata": {
  "kernelspec": {
   "display_name": "Python 3",
   "language": "python",
   "name": "python3"
  },
  "language_info": {
   "codemirror_mode": {
    "name": "ipython",
    "version": 2
   },
   "file_extension": ".py",
   "mimetype": "text/x-python",
   "name": "python",
   "nbconvert_exporter": "python",
   "pygments_lexer": "ipython2",
   "version": "2.7.6"
  }
 },
 "nbformat": 4,
 "nbformat_minor": 0
}